{
 "metadata": {
  "name": "",
  "signature": "sha256:815f705477b2dc7732cfbf261307e0de7987b52610298e3aef5ccdd6c813052a"
 },
 "nbformat": 3,
 "nbformat_minor": 0,
 "worksheets": [
  {
   "cells": [
    {
     "cell_type": "markdown",
     "metadata": {},
     "source": [
      "Firstly, I decide to only focus on TMAX and TMIN, thus I need to filter out those cases that correspond to measurement other than TMAX and TMIN. Also since measurements of TMAX and TMIN need to be combined into a 730-dimensional vector, for a specific year, a station needs to have both TMAX and TMIN measurements. For some measurement, if the number of empty values it contains exceeds a certain threshold, it may potentialy impose negative effect on the analysis. Therefore, I make the following rules to first clean the data:\n",
      "(1) For a station in the same year, it must contain both TMAX and TMIN measurements\n",
      "(2) Discard all the cases that are measurements other than TMAX and TMIN\n",
      "(3) I only count the measurements whose number of actual observations exceed a certain threshold "
     ]
    },
    {
     "cell_type": "markdown",
     "metadata": {},
     "source": [
      "The first task is to plot a distribution of the actual observations of TMAX and TMIN for stations that meet the requirement of (1)."
     ]
    },
    {
     "cell_type": "code",
     "collapsed": false,
     "input": [
      "import sys\n",
      "home_dir='/home/ubuntu/UCSD_BigData'\n",
      "sys.path.append(home_dir+'/utils')\n",
      "from find_waiting_flow import *\n",
      "from AWS_keypair_management import *\n",
      "job_flow_id='j-LTOJMJ14G840'\n",
      "%cd /home/ubuntu/UCSD_BigData/utils/\n",
      "!python Make.mrjob.conf.py\n",
      "%cd ../notebooks/weather.mapreduce/"
     ],
     "language": "python",
     "metadata": {},
     "outputs": [
      {
       "output_type": "stream",
       "stream": "stdout",
       "text": [
        "/home/ubuntu/UCSD_BigData/utils\n",
        "Created the configuration file: /home/ubuntu/.mrjob.conf\r\n"
       ]
      },
      {
       "output_type": "stream",
       "stream": "stdout",
       "text": [
        "/home/ubuntu/UCSD_BigData/notebooks/weather.mapreduce\n"
       ]
      }
     ],
     "prompt_number": 4
    },
    {
     "cell_type": "code",
     "collapsed": false,
     "input": [
      "%%writefile mr_weather.py\n",
      "#!/usr/bin/python\n",
      "import sys\n",
      "sys.path.append('/usr/lib/python2.6/dist-packages')\n",
      "from mrjob.job import MRJob\n",
      "import re\n",
      "from sys import stderr\n",
      "\n",
      "class MRWeather(MRJob):\n",
      "\tdef mapper(self, _, line):\n",
      "\t\telems = line.split(',')\n",
      "\t\tstation = elems[0]\n",
      "\t\tmeasure = elems[1]\n",
      "\t\tyear = elems[2]\n",
      "\t\tvalues = elems[3:]\n",
      "\t\tif station != 'station' and (measure == 'TMAX' or measure == 'TMIN'):\n",
      "\t\t\tnum = len([item for item in values if item != ''])\n",
      "\t\t\tyield (station, year), (measure, num)\n",
      "\n",
      "\tdef reducer(self, key, value):\n",
      "\t\tvalue = list(value)\n",
      "\t\tif len(value) == 2:\n",
      "\t\t\tyield (value[0][0], value[0][1]), 1\n",
      "\t\t\tyield (value[1][0], value[1][1]), 1\n",
      "\n",
      "\tdef final_reducer(self, key, value):\n",
      "\t\tyield key[0], (key[1], sum(value))\n",
      "\n",
      "\tdef steps(self):\n",
      "\t\treturn [self.mr(mapper=self.mapper, reducer=self.reducer),\n",
      "\t\t        self.mr(reducer=self.final_reducer)]\n",
      "\n",
      "if __name__ == '__main__':\n",
      "\tMRWeather.run()"
     ],
     "language": "python",
     "metadata": {},
     "outputs": [
      {
       "output_type": "stream",
       "stream": "stdout",
       "text": [
        "Overwriting mr_weather.py\n"
       ]
      }
     ],
     "prompt_number": 6
    },
    {
     "cell_type": "markdown",
     "metadata": {},
     "source": [
      "Then we use mapreduce to parse the dataset, The output format is (measurement_type, [a number between 0 and 365 (we call it #1), a number (we call it #2)]). #2 represents the number of records that contains #1 actual observations (non-empty value) of a certain measurement_type (TMAX or TMIN). "
     ]
    },
    {
     "cell_type": "code",
     "collapsed": false,
     "input": [
      "!python mr_weather.py -r emr --emr-job-flow-id $job_flow_id hdfs:/weather/weather.csv > counts\n",
      "!cat counts"
     ],
     "language": "python",
     "metadata": {},
     "outputs": [
      {
       "output_type": "stream",
       "stream": "stdout",
       "text": [
        "using configs in /home/ubuntu/.mrjob.conf\r\n"
       ]
      },
      {
       "output_type": "stream",
       "stream": "stdout",
       "text": [
        "creating new scratch bucket mrjob-380affca4b1bbbb3\r\n",
        "using s3://mrjob-380affca4b1bbbb3/tmp/ as our scratch dir on S3\r\n"
       ]
      },
      {
       "output_type": "stream",
       "stream": "stdout",
       "text": [
        "creating tmp directory /tmp/mr_weather.ubuntu.20140525.222110.531299\r\n"
       ]
      },
      {
       "output_type": "stream",
       "stream": "stdout",
       "text": [
        "creating S3 bucket 'mrjob-380affca4b1bbbb3' to use as scratch space\r\n"
       ]
      },
      {
       "output_type": "stream",
       "stream": "stdout",
       "text": [
        "Copying non-input files into s3://mrjob-380affca4b1bbbb3/tmp/mr_weather.ubuntu.20140525.222110.531299/files/\r\n"
       ]
      },
      {
       "output_type": "stream",
       "stream": "stdout",
       "text": [
        "Adding our job to existing job flow j-LTOJMJ14G840\r\n"
       ]
      },
      {
       "output_type": "stream",
       "stream": "stdout",
       "text": [
        "Job launched 30.5s ago, status RUNNING: Running step (mr_weather.ubuntu.20140525.222110.531299: Step 1 of 2)\r\n"
       ]
      },
      {
       "output_type": "stream",
       "stream": "stdout",
       "text": [
        "Job launched 61.1s ago, status RUNNING: Running step (mr_weather.ubuntu.20140525.222110.531299: Step 1 of 2)\r\n"
       ]
      },
      {
       "output_type": "stream",
       "stream": "stdout",
       "text": [
        "Job launched 91.6s ago, status RUNNING: Running step (mr_weather.ubuntu.20140525.222110.531299: Step 1 of 2)\r\n"
       ]
      },
      {
       "output_type": "stream",
       "stream": "stdout",
       "text": [
        "Job launched 122.2s ago, status RUNNING: Running step (mr_weather.ubuntu.20140525.222110.531299: Step 2 of 2)\r\n"
       ]
      },
      {
       "output_type": "stream",
       "stream": "stdout",
       "text": [
        "Job launched 152.7s ago, status RUNNING: Running step (mr_weather.ubuntu.20140525.222110.531299: Step 2 of 2)\r\n"
       ]
      },
      {
       "output_type": "stream",
       "stream": "stdout",
       "text": [
        "Job launched 183.3s ago, status RUNNING: Running step (mr_weather.ubuntu.20140525.222110.531299: Step 2 of 2)\r\n"
       ]
      },
      {
       "output_type": "stream",
       "stream": "stdout",
       "text": [
        "Job launched 213.8s ago, status RUNNING: Running step (mr_weather.ubuntu.20140525.222110.531299: Step 2 of 2)\r\n"
       ]
      },
      {
       "output_type": "stream",
       "stream": "stdout",
       "text": [
        "Job completed.\r\n",
        "Running time was 180.0s (not counting time spent waiting for the EC2 instances)\r\n",
        "ec2_key_pair_file not specified, going to S3\r\n",
        "Fetching counters from S3...\r\n",
        "Waiting 5.0s for S3 eventual consistency\r\n"
       ]
      },
      {
       "output_type": "stream",
       "stream": "stdout",
       "text": [
        "Counters may not have been uploaded to S3 yet. Try again in 5 minutes with: mrjob fetch-logs --counters j-LTOJMJ14G840\r\n",
        "Counters from step 1:\r\n",
        "  (no counters found)\r\n",
        "Counters from step 2:\r\n",
        "  (no counters found)\r\n",
        "Streaming final output from s3://mrjob-380affca4b1bbbb3/tmp/mr_weather.ubuntu.20140525.222110.531299/output/\r\n"
       ]
      },
      {
       "output_type": "stream",
       "stream": "stdout",
       "text": [
        "removing tmp directory /tmp/mr_weather.ubuntu.20140525.222110.531299\r\n",
        "Removing all files in s3://mrjob-380affca4b1bbbb3/tmp/mr_weather.ubuntu.20140525.222110.531299/\r\n"
       ]
      },
      {
       "output_type": "stream",
       "stream": "stdout",
       "text": [
        "\"TMAX\"\t[102, 213]\r\n",
        "\"TMAX\"\t[10, 335]\r\n",
        "\"TMAX\"\t[113, 265]\r\n",
        "\"TMAX\"\t[124, 246]\r\n",
        "\"TMAX\"\t[135, 287]\r\n",
        "\"TMAX\"\t[146, 358]\r\n",
        "\"TMAX\"\t[157, 263]\r\n",
        "\"TMAX\"\t[160, 272]\r\n",
        "\"TMAX\"\t[168, 406]\r\n",
        "\"TMAX\"\t[171, 383]\r\n",
        "\"TMAX\"\t[179, 503]\r\n",
        "\"TMAX\"\t[182, 674]\r\n",
        "\"TMAX\"\t[18, 257]\r\n",
        "\"TMAX\"\t[193, 314]\r\n",
        "\"TMAX\"\t[201, 416]\r\n",
        "\"TMAX\"\t[209, 497]\r\n",
        "\"TMAX\"\t[212, 1459]\r\n",
        "\"TMAX\"\t[21, 271]\r\n",
        "\"TMAX\"\t[223, 367]\r\n",
        "\"TMAX\"\t[234, 526]\r\n",
        "\"TMAX\"\t[245, 1474]\r\n",
        "\"TMAX\"\t[256, 512]\r\n",
        "\"TMAX\"\t[267, 675]\r\n",
        "\"TMAX\"\t[270, 758]\r\n",
        "\"TMAX\"\t[278, 555]\r\n",
        "\"TMAX\"\t[281, 633]\r\n",
        "\"TMAX\"\t[289, 794]\r\n",
        "\"TMAX\"\t[292, 1009]\r\n",
        "\"TMAX\"\t[29, 423]\r\n",
        "\"TMAX\"\t[300, 1298]\r\n",
        "\"TMAX\"\t[308, 1075]\r\n",
        "\"TMAX\"\t[311, 1183]\r\n",
        "\"TMAX\"\t[319, 1462]\r\n",
        "\"TMAX\"\t[322, 1602]\r\n",
        "\"TMAX\"\t[32, 177]\r\n",
        "\"TMAX\"\t[333, 4579]\r\n",
        "\"TMAX\"\t[344, 3008]\r\n",
        "\"TMAX\"\t[355, 7790]\r\n",
        "\"TMAX\"\t[3, 937]\r\n",
        "\"TMAX\"\t[43, 173]\r\n",
        "\"TMAX\"\t[54, 234]\r\n",
        "\"TMAX\"\t[65, 148]\r\n",
        "\"TMAX\"\t[76, 242]\r\n",
        "\"TMAX\"\t[87, 352]\r\n",
        "\"TMAX\"\t[90, 1252]\r\n",
        "\"TMAX\"\t[98, 221]\r\n",
        "\"TMIN\"\t[104, 244]\r\n",
        "\"TMIN\"\t[115, 314]\r\n",
        "\"TMIN\"\t[126, 223]\r\n",
        "\"TMIN\"\t[137, 312]\r\n",
        "\"TMIN\"\t[140, 344]\r\n",
        "\"TMIN\"\t[148, 412]\r\n",
        "\"TMIN\"\t[151, 1344]\r\n",
        "\"TMIN\"\t[159, 309]\r\n",
        "\"TMIN\"\t[162, 314]\r\n",
        "\"TMIN\"\t[16, 291]\r\n",
        "\"TMIN\"\t[173, 450]\r\n",
        "\"TMIN\"\t[184, 1548]\r\n",
        "\"TMIN\"\t[195, 577]\r\n",
        "\"TMIN\"\t[203, 588]\r\n",
        "\"TMIN\"\t[214, 1830]\r\n",
        "\"TMIN\"\t[225, 560]\r\n",
        "\"TMIN\"\t[236, 667]\r\n",
        "\"TMIN\"\t[247, 591]\r\n",
        "\"TMIN\"\t[250, 711]\r\n",
        "\"TMIN\"\t[258, 696]\r\n",
        "\"TMIN\"\t[261, 719]\r\n",
        "\"TMIN\"\t[269, 797]\r\n",
        "\"TMIN\"\t[272, 1198]\r\n",
        "\"TMIN\"\t[27, 345]\r\n",
        "\"TMIN\"\t[283, 626]\r\n",
        "\"TMIN\"\t[294, 843]\r\n",
        "\"TMIN\"\t[302, 1470]\r\n",
        "\"TMIN\"\t[30, 1149]\r\n",
        "\"TMIN\"\t[313, 1093]\r\n",
        "\"TMIN\"\t[324, 1575]\r\n",
        "\"TMIN\"\t[335, 5566]\r\n",
        "\"TMIN\"\t[346, 3308]\r\n",
        "\"TMIN\"\t[357, 9546]\r\n",
        "\"TMIN\"\t[360, 15758]\r\n",
        "\"TMIN\"\t[38, 175]\r\n",
        "\"TMIN\"\t[41, 194]\r\n",
        "\"TMIN\"\t[49, 240]\r\n",
        "\"TMIN\"\t[52, 247]\r\n",
        "\"TMIN\"\t[5, 1101]\r\n",
        "\"TMIN\"\t[63, 185]\r\n",
        "\"TMIN\"\t[74, 222]\r\n",
        "\"TMIN\"\t[85, 300]\r\n",
        "\"TMIN\"\t[96, 179]\r\n",
        "\"TMAX\"\t[101, 211]\r\n",
        "\"TMAX\"\t[109, 244]\r\n",
        "\"TMAX\"\t[112, 267]\r\n",
        "\"TMAX\"\t[123, 421]\r\n",
        "\"TMAX\"\t[134, 287]\r\n",
        "\"TMAX\"\t[145, 332]\r\n",
        "\"TMAX\"\t[156, 268]\r\n",
        "\"TMAX\"\t[167, 373]\r\n",
        "\"TMAX\"\t[170, 443]\r\n",
        "\"TMAX\"\t[178, 448]\r\n",
        "\"TMAX\"\t[17, 254]\r\n",
        "\"TMAX\"\t[181, 1501]\r\n",
        "\"TMAX\"\t[189, 335]\r\n",
        "\"TMAX\"\t[192, 343]\r\n",
        "\"TMAX\"\t[200, 363]\r\n",
        "\"TMAX\"\t[208, 499]\r\n",
        "\"TMAX\"\t[20, 263]\r\n",
        "\"TMAX\"\t[211, 687]\r\n",
        "\"TMAX\"\t[219, 356]\r\n",
        "\"TMAX\"\t[222, 355]\r\n",
        "\"TMAX\"\t[233, 486]\r\n",
        "\"TMAX\"\t[244, 784]\r\n",
        "\"TMAX\"\t[255, 558]\r\n",
        "\"TMAX\"\t[266, 671]\r\n",
        "\"TMAX\"\t[277, 554]\r\n",
        "\"TMAX\"\t[280, 597]\r\n",
        "\"TMAX\"\t[288, 791]\r\n",
        "\"TMAX\"\t[28, 561]\r\n",
        "\"TMAX\"\t[291, 812]\r\n",
        "\"TMAX\"\t[299, 1230]\r\n",
        "\"TMAX\"\t[2, 1061]\r\n",
        "\"TMAX\"\t[307, 1093]\r\n",
        "\"TMAX\"\t[310, 1052]\r\n",
        "\"TMAX\"\t[318, 1428]\r\n",
        "\"TMAX\"\t[31, 3212]\r\n",
        "\"TMAX\"\t[321, 1559]\r\n",
        "\"TMAX\"\t[329, 2264]\r\n",
        "\"TMAX\"\t[332, 3479]\r\n",
        "\"TMAX\"\t[343, 2912]\r\n",
        "\"TMAX\"\t[354, 6792]\r\n",
        "\"TMAX\"\t[365, 437740]\r\n",
        "\"TMAX\"\t[39, 160]\r\n",
        "\"TMAX\"\t[42, 201]\r\n",
        "\"TMAX\"\t[53, 236]\r\n",
        "\"TMAX\"\t[64, 140]\r\n",
        "\"TMAX\"\t[75, 206]\r\n",
        "\"TMAX\"\t[86, 307]\r\n",
        "\"TMAX\"\t[97, 188]\r\n",
        "\"TMIN\"\t[103, 229]\r\n",
        "\"TMIN\"\t[114, 315]\r\n",
        "\"TMIN\"\t[125, 257]\r\n",
        "\"TMIN\"\t[136, 318]\r\n",
        "\"TMIN\"\t[147, 387]\r\n",
        "\"TMIN\"\t[150, 652]\r\n",
        "\"TMIN\"\t[158, 278]\r\n",
        "\"TMIN\"\t[15, 313]\r\n",
        "\"TMIN\"\t[161, 328]\r\n",
        "\"TMIN\"\t[169, 392]\r\n",
        "\"TMIN\"\t[172, 391]\r\n",
        "\"TMIN\"\t[183, 880]\r\n",
        "\"TMIN\"\t[194, 573]\r\n",
        "\"TMIN\"\t[202, 582]\r\n",
        "\"TMIN\"\t[213, 830]\r\n",
        "\"TMIN\"\t[224, 533]\r\n",
        "\"TMIN\"\t[235, 646]\r\n",
        "\"TMIN\"\t[246, 603]\r\n",
        "\"TMIN\"\t[257, 655]\r\n",
        "\"TMIN\"\t[260, 710]\r\n",
        "\"TMIN\"\t[268, 729]\r\n",
        "\"TMIN\"\t[26, 315]\r\n",
        "\"TMIN\"\t[271, 948]\r\n",
        "\"TMIN\"\t[279, 618]\r\n",
        "\"TMIN\"\t[282, 663]\r\n",
        "\"TMIN\"\t[293, 857]\r\n",
        "\"TMIN\"\t[301, 1226]\r\n",
        "\"TMIN\"\t[309, 856]\r\n",
        "\"TMIN\"\t[312, 960]\r\n",
        "\"TMIN\"\t[323, 1480]\r\n",
        "\"TMIN\"\t[334, 11263]\r\n",
        "\"TMIN\"\t[345, 3095]\r\n",
        "\"TMIN\"\t[356, 8878]\r\n",
        "\"TMIN\"\t[37, 182]\r\n",
        "\"TMIN\"\t[40, 193]\r\n",
        "\"TMIN\"\t[48, 221]\r\n",
        "\"TMIN\"\t[4, 1075]\r\n",
        "\"TMIN\"\t[51, 221]\r\n",
        "\"TMIN\"\t[59, 1191]\r\n",
        "\"TMIN\"\t[62, 445]\r\n",
        "\"TMIN\"\t[73, 225]\r\n",
        "\"TMIN\"\t[84, 306]\r\n",
        "\"TMIN\"\t[95, 208]\r\n",
        "\"TMAX\"\t[100, 225]\r\n",
        "\"TMAX\"\t[108, 224]\r\n",
        "\"TMAX\"\t[111, 231]\r\n",
        "\"TMAX\"\t[119, 454]\r\n",
        "\"TMAX\"\t[122, 1268]\r\n",
        "\"TMAX\"\t[133, 260]\r\n",
        "\"TMAX\"\t[144, 319]\r\n",
        "\"TMAX\"\t[155, 271]\r\n",
        "\"TMAX\"\t[166, 327]\r\n",
        "\"TMAX\"\t[16, 283]\r\n",
        "\"TMAX\"\t[177, 420]\r\n",
        "\"TMAX\"\t[180, 693]\r\n",
        "\"TMAX\"\t[188, 286]\r\n",
        "\"TMAX\"\t[191, 319]\r\n",
        "\"TMAX\"\t[199, 367]\r\n",
        "\"TMAX\"\t[1, 1800]\r\n",
        "\"TMAX\"\t[207, 478]\r\n",
        "\"TMAX\"\t[210, 552]\r\n",
        "\"TMAX\"\t[218, 346]\r\n",
        "\"TMAX\"\t[221, 357]\r\n",
        "\"TMAX\"\t[229, 417]\r\n",
        "\"TMAX\"\t[232, 470]\r\n",
        "\"TMAX\"\t[243, 2283]\r\n",
        "\"TMAX\"\t[254, 541]\r\n",
        "\"TMAX\"\t[265, 642]\r\n",
        "\"TMAX\"\t[276, 714]\r\n",
        "\"TMAX\"\t[27, 335]\r\n",
        "\"TMAX\"\t[287, 741]\r\n",
        "\"TMAX\"\t[290, 840]\r\n",
        "\"TMAX\"\t[298, 1077]\r\n",
        "\"TMAX\"\t[306, 2159]\r\n",
        "\"TMAX\"\t[30, 1112]\r\n",
        "\"TMAX\"\t[317, 1413]\r\n",
        "\"TMAX\"\t[320, 1506]\r\n",
        "\"TMAX\"\t[328, 2167]\r\n",
        "\"TMAX\"\t[331, 2897]\r\n",
        "\"TMAX\"\t[339, 2232]\r\n",
        "\"TMAX\"\t[342, 2726]\r\n",
        "\"TMAX\"\t[353, 6388]\r\n",
        "\"TMAX\"\t[364, 74896]\r\n",
        "\"TMAX\"\t[38, 181]\r\n",
        "\"TMAX\"\t[41, 180]\r\n",
        "\"TMAX\"\t[49, 226]\r\n",
        "\"TMAX\"\t[52, 223]\r\n",
        "\"TMAX\"\t[63, 169]\r\n",
        "\"TMAX\"\t[74, 222]\r\n",
        "\"TMAX\"\t[85, 284]\r\n",
        "\"TMAX\"\t[96, 164]\r\n",
        "\"TMAX\"\t[9, 2219]\r\n",
        "\"TMIN\"\t[102, 248]\r\n",
        "\"TMIN\"\t[113, 279]\r\n",
        "\"TMIN\"\t[124, 243]\r\n",
        "\"TMIN\"\t[135, 288]\r\n",
        "\"TMIN\"\t[146, 345]\r\n",
        "\"TMIN\"\t[14, 296]\r\n",
        "\"TMIN\"\t[157, 260]\r\n",
        "\"TMIN\"\t[160, 287]\r\n",
        "\"TMIN\"\t[168, 400]\r\n",
        "\"TMIN\"\t[171, 393]\r\n",
        "\"TMIN\"\t[179, 565]\r\n",
        "\"TMIN\"\t[182, 797]\r\n",
        "\"TMIN\"\t[193, 520]\r\n",
        "\"TMIN\"\t[201, 597]\r\n",
        "\"TMIN\"\t[209, 647]\r\n",
        "\"TMIN\"\t[212, 1620]\r\n",
        "\"TMIN\"\t[223, 539]\r\n",
        "\"TMIN\"\t[234, 658]\r\n",
        "\"TMIN\"\t[245, 1577]\r\n",
        "\"TMIN\"\t[256, 668]\r\n",
        "\"TMIN\"\t[25, 252]\r\n",
        "\"TMIN\"\t[267, 741]\r\n",
        "\"TMIN\"\t[270, 909]\r\n",
        "\"TMIN\"\t[278, 587]\r\n",
        "\"TMIN\"\t[281, 615]\r\n",
        "\"TMIN\"\t[289, 705]\r\n",
        "\"TMIN\"\t[292, 874]\r\n",
        "\"TMIN\"\t[300, 1167]\r\n",
        "\"TMIN\"\t[308, 887]\r\n",
        "\"TMIN\"\t[311, 1016]\r\n",
        "\"TMIN\"\t[319, 1291]\r\n",
        "\"TMIN\"\t[322, 1406]\r\n",
        "\"TMIN\"\t[333, 4483]\r\n",
        "\"TMIN\"\t[344, 2939]\r\n",
        "\"TMIN\"\t[355, 7767]\r\n",
        "\"TMIN\"\t[36, 161]\r\n",
        "\"TMIN\"\t[3, 1100]\r\n",
        "\"TMIN\"\t[47, 221]\r\n",
        "\"TMIN\"\t[50, 217]\r\n",
        "\"TMIN\"\t[58, 419]\r\n",
        "\"TMIN\"\t[61, 1754]\r\n",
        "\"TMIN\"\t[69, 204]\r\n",
        "\"TMIN\"\t[72, 205]\r\n",
        "\"TMIN\"\t[83, 263]\r\n",
        "\"TMIN\"\t[94, 180]\r\n",
        "\"TMAX\"\t[0, 100]\r\n",
        "\"TMAX\"\t[107, 245]\r\n",
        "\"TMAX\"\t[110, 262]\r\n",
        "\"TMAX\"\t[118, 363]\r\n",
        "\"TMAX\"\t[121, 567]\r\n",
        "\"TMAX\"\t[129, 254]\r\n",
        "\"TMAX\"\t[132, 471]\r\n",
        "\"TMAX\"\t[143, 304]\r\n",
        "\"TMAX\"\t[154, 304]\r\n",
        "\"TMAX\"\t[15, 294]\r\n",
        "\"TMAX\"\t[165, 370]\r\n",
        "\"TMAX\"\t[176, 409]\r\n",
        "\"TMAX\"\t[187, 292]\r\n",
        "\"TMAX\"\t[190, 306]\r\n",
        "\"TMAX\"\t[198, 393]\r\n",
        "\"TMAX\"\t[206, 476]\r\n",
        "\"TMAX\"\t[217, 366]\r\n",
        "\"TMAX\"\t[220, 374]\r\n",
        "\"TMAX\"\t[228, 426]\r\n",
        "\"TMAX\"\t[231, 442]\r\n",
        "\"TMAX\"\t[239, 660]\r\n",
        "\"TMAX\"\t[242, 1420]\r\n",
        "\"TMAX\"\t[253, 572]\r\n",
        "\"TMAX\"\t[264, 604]\r\n",
        "\"TMAX\"\t[26, 300]\r\n",
        "\"TMAX\"\t[275, 1637]\r\n",
        "\"TMAX\"\t[286, 704]\r\n",
        "\"TMAX\"\t[297, 1043]\r\n",
        "\"TMAX\"\t[305, 1437]\r\n",
        "\"TMAX\"\t[316, 1326]\r\n",
        "\"TMAX\"\t[327, 2074]\r\n",
        "\"TMAX\"\t[330, 2573]\r\n",
        "\"TMAX\"\t[338, 2141]\r\n",
        "\"TMAX\"\t[341, 2532]\r\n",
        "\"TMAX\"\t[349, 5091]\r\n",
        "\"TMAX\"\t[352, 5564]\r\n",
        "\"TMAX\"\t[363, 37694]\r\n",
        "\"TMAX\"\t[37, 184]\r\n",
        "\"TMAX\"\t[40, 180]\r\n",
        "\"TMAX\"\t[48, 219]\r\n",
        "\"TMAX\"\t[51, 185]\r\n",
        "\"TMAX\"\t[59, 1149]\r\n",
        "\"TMAX\"\t[62, 426]\r\n",
        "\"TMAX\"\t[73, 200]\r\n",
        "\"TMAX\"\t[84, 254]\r\n",
        "\"TMAX\"\t[8, 2953]\r\n",
        "\"TMAX\"\t[95, 174]\r\n",
        "\"TMIN\"\t[101, 252]\r\n",
        "\"TMIN\"\t[109, 265]\r\n",
        "\"TMIN\"\t[112, 276]\r\n",
        "\"TMIN\"\t[123, 416]\r\n",
        "\"TMIN\"\t[134, 304]\r\n",
        "\"TMIN\"\t[13, 332]\r\n",
        "\"TMIN\"\t[145, 366]\r\n",
        "\"TMIN\"\t[156, 302]\r\n",
        "\"TMIN\"\t[167, 329]\r\n",
        "\"TMIN\"\t[170, 363]\r\n",
        "\"TMIN\"\t[178, 500]\r\n",
        "\"TMIN\"\t[181, 1573]\r\n",
        "\"TMIN\"\t[189, 498]\r\n",
        "\"TMIN\"\t[192, 496]\r\n",
        "\"TMIN\"\t[200, 577]\r\n",
        "\"TMIN\"\t[208, 679]\r\n",
        "\"TMIN\"\t[211, 896]\r\n",
        "\"TMIN\"\t[219, 492]\r\n",
        "\"TMIN\"\t[222, 524]\r\n",
        "\"TMIN\"\t[233, 622]\r\n",
        "\"TMIN\"\t[244, 965]\r\n",
        "\"TMIN\"\t[24, 276]\r\n",
        "\"TMIN\"\t[255, 650]\r\n",
        "\"TMIN\"\t[266, 769]\r\n",
        "\"TMIN\"\t[277, 609]\r\n",
        "\"TMIN\"\t[280, 632]\r\n",
        "\"TMIN\"\t[288, 731]\r\n",
        "\"TMIN\"\t[291, 796]\r\n",
        "\"TMIN\"\t[299, 1061]\r\n",
        "\"TMIN\"\t[2, 1160]\r\n",
        "\"TMIN\"\t[307, 875]\r\n",
        "\"TMIN\"\t[310, 899]\r\n",
        "\"TMIN\"\t[318, 1178]\r\n",
        "\"TMIN\"\t[321, 1382]\r\n",
        "\"TMIN\"\t[329, 2097]\r\n",
        "\"TMIN\"\t[332, 3367]\r\n",
        "\"TMIN\"\t[343, 2782]\r\n",
        "\"TMIN\"\t[354, 6675]\r\n",
        "\"TMIN\"\t[35, 146]\r\n",
        "\"TMIN\"\t[365, 425210]\r\n",
        "\"TMIN\"\t[46, 214]\r\n",
        "\"TMIN\"\t[57, 309]\r\n",
        "\"TMIN\"\t[60, 491]\r\n",
        "\"TMIN\"\t[68, 221]\r\n",
        "\"TMIN\"\t[71, 211]\r\n",
        "\"TMIN\"\t[79, 265]\r\n",
        "\"TMIN\"\t[82, 277]\r\n",
        "\"TMIN\"\t[93, 336]\r\n",
        "\"TMAX\"\t[106, 254]\r\n",
        "\"TMAX\"\t[117, 339]\r\n",
        "\"TMAX\"\t[120, 1213]\r\n",
        "\"TMAX\"\t[128, 249]\r\n",
        "\"TMAX\"\t[131, 773]\r\n",
        "\"TMAX\"\t[139, 304]\r\n",
        "\"TMAX\"\t[142, 301]\r\n",
        "\"TMAX\"\t[14, 295]\r\n",
        "\"TMAX\"\t[153, 1416]\r\n",
        "\"TMAX\"\t[164, 325]\r\n",
        "\"TMAX\"\t[175, 400]\r\n",
        "\"TMAX\"\t[186, 241]\r\n",
        "\"TMAX\"\t[197, 409]\r\n",
        "\"TMAX\"\t[205, 491]\r\n",
        "\"TMAX\"\t[216, 305]\r\n",
        "\"TMAX\"\t[227, 441]\r\n",
        "\"TMAX\"\t[230, 430]\r\n",
        "\"TMAX\"\t[238, 576]\r\n",
        "\"TMAX\"\t[241, 819]\r\n",
        "\"TMAX\"\t[249, 477]\r\n",
        "\"TMAX\"\t[252, 598]\r\n",
        "\"TMAX\"\t[25, 262]\r\n",
        "\"TMAX\"\t[263, 592]\r\n",
        "\"TMAX\"\t[274, 1154]\r\n",
        "\"TMAX\"\t[285, 710]\r\n",
        "\"TMAX\"\t[296, 1064]\r\n",
        "\"TMAX\"\t[304, 3757]\r\n",
        "\"TMAX\"\t[315, 1331]\r\n",
        "\"TMAX\"\t[326, 1995]\r\n",
        "\"TMAX\"\t[337, 3099]\r\n",
        "\"TMAX\"\t[340, 2384]\r\n",
        "\"TMAX\"\t[348, 4129]\r\n",
        "\"TMAX\"\t[351, 5242]\r\n",
        "\"TMAX\"\t[359, 12393]\r\n",
        "\"TMAX\"\t[362, 24362]\r\n",
        "\"TMAX\"\t[36, 168]\r\n",
        "\"TMAX\"\t[47, 212]\r\n",
        "\"TMAX\"\t[50, 201]\r\n",
        "\"TMAX\"\t[58, 404]\r\n",
        "\"TMAX\"\t[61, 1744]\r\n",
        "\"TMAX\"\t[69, 204]\r\n",
        "\"TMAX\"\t[72, 205]\r\n",
        "\"TMAX\"\t[7, 2259]\r\n",
        "\"TMAX\"\t[83, 261]\r\n",
        "\"TMAX\"\t[94, 192]\r\n",
        "\"TMIN\"\t[100, 265]\r\n",
        "\"TMIN\"\t[108, 244]\r\n",
        "\"TMIN\"\t[111, 297]\r\n",
        "\"TMIN\"\t[119, 515]\r\n",
        "\"TMIN\"\t[122, 1196]\r\n",
        "\"TMIN\"\t[12, 311]\r\n",
        "\"TMIN\"\t[133, 251]\r\n",
        "\"TMIN\"\t[144, 351]\r\n",
        "\"TMIN\"\t[155, 277]\r\n",
        "\"TMIN\"\t[166, 347]\r\n",
        "\"TMIN\"\t[177, 528]\r\n",
        "\"TMIN\"\t[180, 759]\r\n",
        "\"TMIN\"\t[188, 483]\r\n",
        "\"TMIN\"\t[191, 517]\r\n",
        "\"TMIN\"\t[199, 612]\r\n",
        "\"TMIN\"\t[1, 1782]\r\n",
        "\"TMIN\"\t[207, 627]\r\n",
        "\"TMIN\"\t[210, 733]\r\n",
        "\"TMIN\"\t[218, 515]\r\n",
        "\"TMIN\"\t[221, 533]\r\n",
        "\"TMIN\"\t[229, 562]\r\n",
        "\"TMIN\"\t[232, 655]\r\n",
        "\"TMIN\"\t[23, 264]\r\n",
        "\"TMIN\"\t[243, 2419]\r\n",
        "\"TMIN\"\t[254, 624]\r\n",
        "\"TMIN\"\t[265, 694]\r\n",
        "\"TMIN\"\t[276, 782]\r\n",
        "\"TMIN\"\t[287, 699]\r\n",
        "\"TMIN\"\t[290, 787]\r\n",
        "\"TMIN\"\t[298, 989]\r\n",
        "\"TMIN\"\t[306, 1908]\r\n",
        "\"TMIN\"\t[317, 1147]\r\n",
        "\"TMIN\"\t[320, 1340]\r\n",
        "\"TMIN\"\t[328, 1990]\r\n",
        "\"TMIN\"\t[331, 2689]\r\n",
        "\"TMIN\"\t[339, 2058]\r\n",
        "\"TMIN\"\t[342, 2480]\r\n",
        "\"TMIN\"\t[34, 191]\r\n",
        "\"TMIN\"\t[353, 6169]\r\n",
        "\"TMIN\"\t[364, 76919]\r\n",
        "\"TMIN\"\t[45, 213]\r\n",
        "\"TMIN\"\t[56, 277]\r\n",
        "\"TMIN\"\t[67, 193]\r\n",
        "\"TMIN\"\t[70, 189]\r\n",
        "\"TMIN\"\t[78, 273]\r\n",
        "\"TMIN\"\t[81, 290]\r\n",
        "\"TMIN\"\t[89, 571]\r\n",
        "\"TMIN\"\t[92, 1527]\r\n",
        "\"TMIN\"\t[9, 2255]\r\n",
        "\"TMAX\"\t[105, 256]\r\n",
        "\"TMAX\"\t[116, 298]\r\n",
        "\"TMAX\"\t[127, 260]\r\n",
        "\"TMAX\"\t[130, 601]\r\n",
        "\"TMAX\"\t[138, 296]\r\n",
        "\"TMAX\"\t[13, 264]\r\n",
        "\"TMAX\"\t[141, 316]\r\n",
        "\"TMAX\"\t[149, 439]\r\n",
        "\"TMAX\"\t[152, 518]\r\n",
        "\"TMAX\"\t[163, 300]\r\n",
        "\"TMAX\"\t[174, 399]\r\n",
        "\"TMAX\"\t[185, 276]\r\n",
        "\"TMAX\"\t[196, 362]\r\n",
        "\"TMAX\"\t[204, 440]\r\n",
        "\"TMAX\"\t[215, 423]\r\n",
        "\"TMAX\"\t[226, 411]\r\n",
        "\"TMAX\"\t[237, 537]\r\n",
        "\"TMAX\"\t[240, 621]\r\n",
        "\"TMAX\"\t[248, 507]\r\n",
        "\"TMAX\"\t[24, 245]\r\n",
        "\"TMAX\"\t[251, 557]\r\n",
        "\"TMAX\"\t[259, 608]\r\n",
        "\"TMAX\"\t[262, 591]\r\n",
        "\"TMAX\"\t[273, 2365]\r\n",
        "\"TMAX\"\t[284, 718]\r\n",
        "\"TMAX\"\t[295, 993]\r\n",
        "\"TMAX\"\t[303, 2475]\r\n",
        "\"TMAX\"\t[314, 1157]\r\n",
        "\"TMAX\"\t[325, 1888]\r\n",
        "\"TMAX\"\t[336, 2512]\r\n",
        "\"TMAX\"\t[347, 3798]\r\n",
        "\"TMAX\"\t[350, 4909]\r\n",
        "\"TMAX\"\t[358, 10908]\r\n",
        "\"TMAX\"\t[35, 144]\r\n",
        "\"TMAX\"\t[361, 18473]\r\n",
        "\"TMAX\"\t[46, 197]\r\n",
        "\"TMAX\"\t[57, 312]\r\n",
        "\"TMAX\"\t[60, 466]\r\n",
        "\"TMAX\"\t[68, 199]\r\n",
        "\"TMAX\"\t[6, 1038]\r\n",
        "\"TMAX\"\t[71, 204]\r\n",
        "\"TMAX\"\t[79, 210]\r\n",
        "\"TMAX\"\t[82, 242]\r\n",
        "\"TMAX\"\t[93, 301]\r\n",
        "\"TMIN\"\t[0, 88]\r\n",
        "\"TMIN\"\t[107, 269]\r\n",
        "\"TMIN\"\t[110, 268]\r\n",
        "\"TMIN\"\t[118, 401]\r\n",
        "\"TMIN\"\t[11, 339]\r\n",
        "\"TMIN\"\t[121, 591]\r\n",
        "\"TMIN\"\t[129, 287]\r\n",
        "\"TMIN\"\t[132, 474]\r\n",
        "\"TMIN\"\t[143, 321]\r\n",
        "\"TMIN\"\t[154, 343]\r\n",
        "\"TMIN\"\t[165, 374]\r\n",
        "\"TMIN\"\t[176, 454]\r\n",
        "\"TMIN\"\t[187, 410]\r\n",
        "\"TMIN\"\t[190, 488]\r\n",
        "\"TMIN\"\t[198, 593]\r\n",
        "\"TMIN\"\t[19, 266]\r\n",
        "\"TMIN\"\t[206, 628]\r\n",
        "\"TMIN\"\t[217, 494]\r\n",
        "\"TMIN\"\t[220, 495]\r\n",
        "\"TMIN\"\t[228, 562]\r\n",
        "\"TMIN\"\t[22, 294]\r\n",
        "\"TMIN\"\t[231, 615]\r\n",
        "\"TMIN\"\t[239, 777]\r\n",
        "\"TMIN\"\t[242, 1605]\r\n",
        "\"TMIN\"\t[253, 659]\r\n",
        "\"TMIN\"\t[264, 693]\r\n",
        "\"TMIN\"\t[275, 1611]\r\n",
        "\"TMIN\"\t[286, 737]\r\n",
        "\"TMIN\"\t[297, 926]\r\n",
        "\"TMIN\"\t[305, 1285]\r\n",
        "\"TMIN\"\t[316, 1094]\r\n",
        "\"TMIN\"\t[327, 1910]\r\n",
        "\"TMIN\"\t[330, 2402]\r\n",
        "\"TMIN\"\t[338, 1944]\r\n",
        "\"TMIN\"\t[33, 163]\r\n",
        "\"TMIN\"\t[341, 2357]\r\n",
        "\"TMIN\"\t[349, 4851]\r\n",
        "\"TMIN\"\t[352, 5577]\r\n",
        "\"TMIN\"\t[363, 39660]\r\n",
        "\"TMIN\"\t[44, 205]\r\n",
        "\"TMIN\"\t[55, 274]\r\n",
        "\"TMIN\"\t[66, 180]\r\n",
        "\"TMIN\"\t[77, 270]\r\n",
        "\"TMIN\"\t[80, 255]\r\n",
        "\"TMIN\"\t[88, 420]\r\n",
        "\"TMIN\"\t[8, 2564]\r\n",
        "\"TMIN\"\t[91, 611]\r\n",
        "\"TMIN\"\t[99, 231]\r\n",
        "\"TMAX\"\t[104, 250]\r\n",
        "\"TMAX\"\t[115, 261]\r\n",
        "\"TMAX\"\t[126, 260]\r\n",
        "\"TMAX\"\t[12, 330]\r\n",
        "\"TMAX\"\t[137, 283]\r\n",
        "\"TMAX\"\t[140, 279]\r\n",
        "\"TMAX\"\t[148, 423]\r\n",
        "\"TMAX\"\t[151, 1309]\r\n",
        "\"TMAX\"\t[159, 285]\r\n",
        "\"TMAX\"\t[162, 305]\r\n",
        "\"TMAX\"\t[173, 378]\r\n",
        "\"TMAX\"\t[184, 1529]\r\n",
        "\"TMAX\"\t[195, 368]\r\n",
        "\"TMAX\"\t[203, 424]\r\n",
        "\"TMAX\"\t[214, 1731]\r\n",
        "\"TMAX\"\t[225, 394]\r\n",
        "\"TMAX\"\t[236, 526]\r\n",
        "\"TMAX\"\t[23, 271]\r\n",
        "\"TMAX\"\t[247, 473]\r\n",
        "\"TMAX\"\t[250, 537]\r\n",
        "\"TMAX\"\t[258, 586]\r\n",
        "\"TMAX\"\t[261, 619]\r\n",
        "\"TMAX\"\t[269, 734]\r\n",
        "\"TMAX\"\t[272, 1089]\r\n",
        "\"TMAX\"\t[283, 708]\r\n",
        "\"TMAX\"\t[294, 967]\r\n",
        "\"TMAX\"\t[302, 1601]\r\n",
        "\"TMAX\"\t[313, 1265]\r\n",
        "\"TMAX\"\t[324, 1745]\r\n",
        "\"TMAX\"\t[335, 5855]\r\n",
        "\"TMAX\"\t[346, 3524]\r\n",
        "\"TMAX\"\t[34, 174]\r\n",
        "\"TMAX\"\t[357, 9420]\r\n",
        "\"TMAX\"\t[360, 14600]\r\n",
        "\"TMAX\"\t[45, 309]\r\n",
        "\"TMAX\"\t[56, 242]\r\n",
        "\"TMAX\"\t[5, 920]\r\n",
        "\"TMAX\"\t[67, 179]\r\n",
        "\"TMAX\"\t[70, 175]\r\n",
        "\"TMAX\"\t[78, 258]\r\n",
        "\"TMAX\"\t[81, 246]\r\n",
        "\"TMAX\"\t[89, 520]\r\n",
        "\"TMAX\"\t[92, 1497]\r\n",
        "\"TMIN\"\t[106, 272]\r\n",
        "\"TMIN\"\t[10, 353]\r\n",
        "\"TMIN\"\t[117, 356]\r\n",
        "\"TMIN\"\t[120, 1228]\r\n",
        "\"TMIN\"\t[128, 245]\r\n",
        "\"TMIN\"\t[131, 809]\r\n",
        "\"TMIN\"\t[139, 300]\r\n",
        "\"TMIN\"\t[142, 311]\r\n",
        "\"TMIN\"\t[153, 1328]\r\n",
        "\"TMIN\"\t[164, 351]\r\n",
        "\"TMIN\"\t[175, 461]\r\n",
        "\"TMIN\"\t[186, 433]\r\n",
        "\"TMIN\"\t[18, 280]\r\n",
        "\"TMIN\"\t[197, 581]\r\n",
        "\"TMIN\"\t[205, 559]\r\n",
        "\"TMIN\"\t[216, 501]\r\n",
        "\"TMIN\"\t[21, 263]\r\n",
        "\"TMIN\"\t[227, 548]\r\n",
        "\"TMIN\"\t[230, 602]\r\n",
        "\"TMIN\"\t[238, 713]\r\n",
        "\"TMIN\"\t[241, 1015]\r\n",
        "\"TMIN\"\t[249, 674]\r\n",
        "\"TMIN\"\t[252, 685]\r\n",
        "\"TMIN\"\t[263, 727]\r\n",
        "\"TMIN\"\t[274, 1197]\r\n",
        "\"TMIN\"\t[285, 726]\r\n",
        "\"TMIN\"\t[296, 909]\r\n",
        "\"TMIN\"\t[29, 404]\r\n",
        "\"TMIN\"\t[304, 3440]\r\n",
        "\"TMIN\"\t[315, 1090]\r\n",
        "\"TMIN\"\t[326, 1766]\r\n",
        "\"TMIN\"\t[32, 189]\r\n",
        "\"TMIN\"\t[337, 3161]\r\n",
        "\"TMIN\"\t[340, 2132]\r\n",
        "\"TMIN\"\t[348, 3928]\r\n",
        "\"TMIN\"\t[351, 5145]\r\n",
        "\"TMIN\"\t[359, 12718]\r\n",
        "\"TMIN\"\t[362, 25734]\r\n",
        "\"TMIN\"\t[43, 179]\r\n",
        "\"TMIN\"\t[54, 262]\r\n",
        "\"TMIN\"\t[65, 171]\r\n",
        "\"TMIN\"\t[76, 253]\r\n",
        "\"TMIN\"\t[7, 2189]\r\n",
        "\"TMIN\"\t[87, 349]\r\n",
        "\"TMIN\"\t[90, 1222]\r\n",
        "\"TMIN\"\t[98, 237]\r\n",
        "\"TMAX\"\t[103, 210]\r\n",
        "\"TMAX\"\t[114, 295]\r\n",
        "\"TMAX\"\t[11, 329]\r\n",
        "\"TMAX\"\t[125, 257]\r\n",
        "\"TMAX\"\t[136, 301]\r\n",
        "\"TMAX\"\t[147, 381]\r\n",
        "\"TMAX\"\t[150, 624]\r\n",
        "\"TMAX\"\t[158, 266]\r\n",
        "\"TMAX\"\t[161, 304]\r\n",
        "\"TMAX\"\t[169, 408]\r\n",
        "\"TMAX\"\t[172, 342]\r\n",
        "\"TMAX\"\t[183, 839]\r\n",
        "\"TMAX\"\t[194, 364]\r\n",
        "\"TMAX\"\t[19, 249]\r\n",
        "\"TMAX\"\t[202, 394]\r\n",
        "\"TMAX\"\t[213, 712]\r\n",
        "\"TMAX\"\t[224, 374]\r\n",
        "\"TMAX\"\t[22, 261]\r\n",
        "\"TMAX\"\t[235, 483]\r\n",
        "\"TMAX\"\t[246, 521]\r\n",
        "\"TMAX\"\t[257, 570]\r\n",
        "\"TMAX\"\t[260, 628]\r\n",
        "\"TMAX\"\t[268, 668]\r\n",
        "\"TMAX\"\t[271, 867]\r\n",
        "\"TMAX\"\t[279, 560]\r\n",
        "\"TMAX\"\t[282, 655]\r\n",
        "\"TMAX\"\t[293, 890]\r\n",
        "\"TMAX\"\t[301, 1398]\r\n",
        "\"TMAX\"\t[309, 1120]\r\n",
        "\"TMAX\"\t[312, 1212]\r\n",
        "\"TMAX\"\t[323, 1674]\r\n",
        "\"TMAX\"\t[334, 11753]\r\n",
        "\"TMAX\"\t[33, 159]\r\n",
        "\"TMAX\"\t[345, 3293]\r\n",
        "\"TMAX\"\t[356, 8721]\r\n",
        "\"TMAX\"\t[44, 217]\r\n",
        "\"TMAX\"\t[4, 862]\r\n",
        "\"TMAX\"\t[55, 248]\r\n",
        "\"TMAX\"\t[66, 185]\r\n",
        "\"TMAX\"\t[77, 223]\r\n",
        "\"TMAX\"\t[80, 222]\r\n",
        "\"TMAX\"\t[88, 474]\r\n",
        "\"TMAX\"\t[91, 569]\r\n",
        "\"TMAX\"\t[99, 215]\r\n",
        "\"TMIN\"\t[105, 284]\r\n",
        "\"TMIN\"\t[116, 315]\r\n",
        "\"TMIN\"\t[127, 248]\r\n",
        "\"TMIN\"\t[130, 609]\r\n",
        "\"TMIN\"\t[138, 295]\r\n",
        "\"TMIN\"\t[141, 317]\r\n",
        "\"TMIN\"\t[149, 514]\r\n",
        "\"TMIN\"\t[152, 602]\r\n",
        "\"TMIN\"\t[163, 347]\r\n",
        "\"TMIN\"\t[174, 416]\r\n",
        "\"TMIN\"\t[17, 317]\r\n",
        "\"TMIN\"\t[185, 370]\r\n",
        "\"TMIN\"\t[196, 585]\r\n",
        "\"TMIN\"\t[204, 587]\r\n",
        "\"TMIN\"\t[20, 286]\r\n",
        "\"TMIN\"\t[215, 569]\r\n",
        "\"TMIN\"\t[226, 532]\r\n",
        "\"TMIN\"\t[237, 657]\r\n",
        "\"TMIN\"\t[240, 741]\r\n",
        "\"TMIN\"\t[248, 618]\r\n",
        "\"TMIN\"\t[251, 719]\r\n",
        "\"TMIN\"\t[259, 698]\r\n",
        "\"TMIN\"\t[262, 718]\r\n",
        "\"TMIN\"\t[273, 2367]\r\n",
        "\"TMIN\"\t[284, 705]\r\n",
        "\"TMIN\"\t[28, 582]\r\n",
        "\"TMIN\"\t[295, 867]\r\n",
        "\"TMIN\"\t[303, 2310]\r\n",
        "\"TMIN\"\t[314, 961]\r\n",
        "\"TMIN\"\t[31, 3120]\r\n",
        "\"TMIN\"\t[325, 1663]\r\n",
        "\"TMIN\"\t[336, 2061]\r\n",
        "\"TMIN\"\t[347, 3627]\r\n",
        "\"TMIN\"\t[350, 4730]\r\n",
        "\"TMIN\"\t[358, 11094]\r\n",
        "\"TMIN\"\t[361, 19430]\r\n",
        "\"TMIN\"\t[39, 182]\r\n",
        "\"TMIN\"\t[42, 216]\r\n",
        "\"TMIN\"\t[53, 240]\r\n",
        "\"TMIN\"\t[64, 179]\r\n",
        "\"TMIN\"\t[6, 1119]\r\n",
        "\"TMIN\"\t[75, 202]\r\n",
        "\"TMIN\"\t[86, 322]\r\n",
        "\"TMIN\"\t[97, 227]\r\n"
       ]
      }
     ],
     "prompt_number": 9
    },
    {
     "cell_type": "markdown",
     "metadata": {},
     "source": [
      "Then we write a parsing script to populate two 366-dimensional vectors that correspond to TMAX and TMIN, respectively. Then we use np.cumsum() to get a non-normalized 'CDF' and make visualizations. The first picture is the actual observation distribution of TMAX and the one below it represents TMIN. \n",
      "\n",
      "From the pictures we can see that most records contain more than 350 non-empty values. To reduce the effect of empty values on final analysis while retaining as much as data as possible, we decide to set the threshold as 250, which means to filter the dataset, we only count those records that contains more than and including 250 actual values. "
     ]
    },
    {
     "cell_type": "code",
     "collapsed": false,
     "input": [
      "import numpy as np\n",
      "import matplotlib.pyplot as plt\n",
      "\n",
      "data = open('counts')\n",
      "tmax = [0]*366\n",
      "tmin = [0]*366\n",
      "\n",
      "\n",
      "\n",
      "for line in data:\n",
      "\trow = line.split('\\t')\n",
      "\tmeasure = row[0]\n",
      "\tdes = row[1][1:-2].split(', ')\n",
      "\tx_num = int(des[0])\n",
      "\ty_num = int(des[1])\n",
      "\tif measure == '\"TMAX\"':\n",
      "\t\ttmax[x_num] = y_num\n",
      "\telse:\n",
      "\t\ttmin[x_num] = y_num\n",
      "\n",
      "tmax = np.cumsum(tmax)\n",
      "plt.figure(1)\n",
      "plt.plot(range(366), tmax)\n",
      "tmin = np.cumsum(tmin)\n",
      "plt.figure(2)\n",
      "plt.plot(range(366), tmin)"
     ],
     "language": "python",
     "metadata": {},
     "outputs": [
      {
       "metadata": {},
       "output_type": "pyout",
       "prompt_number": 10,
       "text": [
        "[<matplotlib.lines.Line2D at 0x4583e50>]"
       ]
      },
      {
       "metadata": {},
       "output_type": "display_data",
       "png": "[encoded data removed]",
       "text": [
        "<matplotlib.figure.Figure at 0x45f94d0>"
       ]
      },
      {
       "metadata": {},
       "output_type": "display_data",
       "png": "[encoded data removed]",
       "text": [
        "<matplotlib.figure.Figure at 0x45aac10>"
       ]
      }
     ],
     "prompt_number": 10
    },
    {
     "cell_type": "code",
     "collapsed": false,
     "input": [
      "job_flow_id='j-2KCJE554SGITB'\n",
      "local_file = '/home/ubuntu/UCSD_BigData/notebooks/weather.mapreduce/filtered_data'\n",
      "df_file = '/home/ubuntu/UCSD_BigData/notebooks/weather.mapreduce/metadata.pkl'\n",
      "#!ls -l $df_file\n",
      "!python pca.py -r emr --emr-job-flow-id $job_flow_id --metadata $df_file s3://huaipengzhang/weather/filtered_data > kcpcaoutputfile\n"
     ],
     "language": "python",
     "metadata": {},
     "outputs": [
      {
       "output_type": "stream",
       "stream": "stdout",
       "text": [
        "using configs in /home/ubuntu/.mrjob.conf\r\n"
       ]
      },
      {
       "output_type": "stream",
       "stream": "stdout",
       "text": [
        "creating tmp directory /tmp/pca.ubuntu.20140527.045338.440962\r\n"
       ]
      },
      {
       "output_type": "stream",
       "stream": "stdout",
       "text": [
        "Copying non-input files into s3://huaipengzhang/scratch/pca.ubuntu.20140527.045338.440962/files/\r\n"
       ]
      },
      {
       "output_type": "stream",
       "stream": "stdout",
       "text": [
        "Adding our job to existing job flow j-2KCJE554SGITB\r\n"
       ]
      },
      {
       "output_type": "stream",
       "stream": "stdout",
       "text": [
        "Job launched 31.3s ago, status RUNNING: Running step\r\n"
       ]
      },
      {
       "output_type": "stream",
       "stream": "stdout",
       "text": [
        "Job launched 62.7s ago, status RUNNING: Running step\r\n"
       ]
      },
      {
       "output_type": "stream",
       "stream": "stdout",
       "text": [
        "Job launched 93.9s ago, status RUNNING: Running step\r\n"
       ]
      },
      {
       "output_type": "stream",
       "stream": "stdout",
       "text": [
        "Job launched 125.3s ago, status RUNNING: Running step\r\n"
       ]
      },
      {
       "output_type": "stream",
       "stream": "stdout",
       "text": [
        "Job launched 156.5s ago, status RUNNING: Running step\r\n"
       ]
      },
      {
       "output_type": "stream",
       "stream": "stdout",
       "text": [
        "Job launched 187.7s ago, status RUNNING: Running step\r\n"
       ]
      },
      {
       "output_type": "stream",
       "stream": "stdout",
       "text": [
        "Job launched 219.0s ago, status RUNNING: Running step\r\n"
       ]
      },
      {
       "output_type": "stream",
       "stream": "stdout",
       "text": [
        "Job launched 250.4s ago, status RUNNING: Running step\r\n"
       ]
      },
      {
       "output_type": "stream",
       "stream": "stdout",
       "text": [
        "Job launched 281.7s ago, status RUNNING: Running step\r\n"
       ]
      },
      {
       "output_type": "stream",
       "stream": "stdout",
       "text": [
        "Got retriable error: EmrResponseError: 400 Bad Request\r\n",
        "<ErrorResponse xmlns=\"http://elasticmapreduce.amazonaws.com/doc/2009-03-31\">\r\n",
        "  <Error>\r\n",
        "    <Type>Sender</Type>\r\n",
        "    <Code>Throttling</Code>\r\n",
        "    <Message>Rate exceeded</Message>\r\n",
        "  </Error>\r\n",
        "  <RequestId>9b305f64-e55b-11e3-955c-1fb30f4201c5</RequestId>\r\n",
        "</ErrorResponse>\r\n",
        "\r\n",
        "Backing off for 20.0 seconds\r\n"
       ]
      },
      {
       "output_type": "stream",
       "stream": "stdout",
       "text": [
        "Got retriable error: EmrResponseError: 400 Bad Request\r\n",
        "<ErrorResponse xmlns=\"http://elasticmapreduce.amazonaws.com/doc/2009-03-31\">\r\n",
        "  <Error>\r\n",
        "    <Type>Sender</Type>\r\n",
        "    <Code>Throttling</Code>\r\n",
        "    <Message>Rate exceeded</Message>\r\n",
        "  </Error>\r\n",
        "  <RequestId>a71fa442-e55b-11e3-955c-1fb30f4201c5</RequestId>\r\n",
        "</ErrorResponse>\r\n",
        "\r\n",
        "Backing off for 30.0 seconds\r\n"
       ]
      },
      {
       "output_type": "stream",
       "stream": "stdout",
       "text": [
        "Job launched 363.0s ago, status RUNNING: Running step\r\n"
       ]
      }
     ]
    },
    {
     "cell_type": "code",
     "collapsed": false,
     "input": [
      "\n",
      "job_flow_id='j-2KCJE554SGITB'\n",
      "local_file = '/home/ubuntu/UCSD_BigData/notebooks/weather.mapreduce/filtered_data'\n",
      "df_file = '/home/ubuntu/UCSD_BigData/notebooks/weather.mapreduce/metadata.pkl'\n",
      "#!ls -l $df_file\n",
      "!python pca.py -r emr --emr-job-flow-id $job_flow_id --metadata $df_file s3://huaipengzhang/weather/filtered_data > Kpcaoutputfile\n"
     ],
     "language": "python",
     "metadata": {},
     "outputs": [
      {
       "output_type": "stream",
       "stream": "stdout",
       "text": [
        "using configs in /home/ubuntu/.mrjob.conf\r\n"
       ]
      },
      {
       "output_type": "stream",
       "stream": "stdout",
       "text": [
        "creating tmp directory /tmp/pca.ubuntu.20140527.052557.755846\r\n"
       ]
      },
      {
       "output_type": "stream",
       "stream": "stdout",
       "text": [
        "Copying non-input files into s3://huaipengzhang/scratch/pca.ubuntu.20140527.052557.755846/files/\r\n"
       ]
      },
      {
       "output_type": "stream",
       "stream": "stdout",
       "text": [
        "Adding our job to existing job flow j-2KCJE554SGITB\r\n"
       ]
      },
      {
       "output_type": "stream",
       "stream": "stdout",
       "text": [
        "Got retriable error: EmrResponseError: 400 Bad Request\r\n",
        "<ErrorResponse xmlns=\"http://elasticmapreduce.amazonaws.com/doc/2009-03-31\">\r\n",
        "  <Error>\r\n",
        "    <Type>Sender</Type>\r\n",
        "    <Code>Throttling</Code>\r\n",
        "    <Message>Rate exceeded</Message>\r\n",
        "  </Error>\r\n",
        "  <RequestId>643fe742-e55f-11e3-8c68-dfb11431f3fe</RequestId>\r\n",
        "</ErrorResponse>\r\n",
        "\r\n",
        "Backing off for 20.0 seconds\r\n"
       ]
      },
      {
       "output_type": "stream",
       "stream": "stdout",
       "text": [
        "Got retriable error: EmrResponseError: 400 Bad Request\r\n",
        "<ErrorResponse xmlns=\"http://elasticmapreduce.amazonaws.com/doc/2009-03-31\">\r\n",
        "  <Error>\r\n",
        "    <Type>Sender</Type>\r\n",
        "    <Code>Throttling</Code>\r\n",
        "    <Message>Rate exceeded</Message>\r\n",
        "  </Error>\r\n",
        "  <RequestId>70312752-e55f-11e3-a13b-cf267f9d23d6</RequestId>\r\n",
        "</ErrorResponse>\r\n",
        "\r\n",
        "Backing off for 30.0 seconds\r\n"
       ]
      },
      {
       "output_type": "stream",
       "stream": "stdout",
       "text": [
        "Job launched 31.2s ago, status RUNNING: Running step (pca.ubuntu.20140527.052557.755846: Step 1 of 1)\r\n"
       ]
      },
      {
       "output_type": "stream",
       "stream": "stdout",
       "text": [
        "Job launched 62.5s ago, status RUNNING: Running step (pca.ubuntu.20140527.052557.755846: Step 1 of 1)\r\n"
       ]
      },
      {
       "output_type": "stream",
       "stream": "stdout",
       "text": [
        "Job launched 93.7s ago, status RUNNING: Running step (pca.ubuntu.20140527.052557.755846: Step 1 of 1)\r\n"
       ]
      },
      {
       "output_type": "stream",
       "stream": "stdout",
       "text": [
        "Job launched 126.9s ago, status RUNNING: Running step (pca.ubuntu.20140527.052557.755846: Step 1 of 1)\r\n"
       ]
      },
      {
       "output_type": "stream",
       "stream": "stdout",
       "text": [
        "Job launched 158.2s ago, status RUNNING: Running step (pca.ubuntu.20140527.052557.755846: Step 1 of 1)\r\n"
       ]
      },
      {
       "output_type": "stream",
       "stream": "stdout",
       "text": [
        "Got retriable error: EmrResponseError: 400 Bad Request\r\n",
        "<ErrorResponse xmlns=\"http://elasticmapreduce.amazonaws.com/doc/2009-03-31\">\r\n",
        "  <Error>\r\n",
        "    <Type>Sender</Type>\r\n",
        "    <Code>Throttling</Code>\r\n",
        "    <Message>Rate exceeded</Message>\r\n",
        "  </Error>\r\n",
        "  <RequestId>f322e177-e55f-11e3-9423-c97367f9860b</RequestId>\r\n",
        "</ErrorResponse>\r\n",
        "\r\n",
        "Backing off for 20.0 seconds\r\n"
       ]
      },
      {
       "output_type": "stream",
       "stream": "stdout",
       "text": [
        "Job launched 209.4s ago, status RUNNING: Running step (pca.ubuntu.20140527.052557.755846: Step 1 of 1)\r\n"
       ]
      },
      {
       "output_type": "stream",
       "stream": "stdout",
       "text": [
        "Job launched 240.6s ago, status RUNNING: Running step (pca.ubuntu.20140527.052557.755846: Step 1 of 1)\r\n"
       ]
      },
      {
       "output_type": "stream",
       "stream": "stdout",
       "text": [
        "Job launched 271.8s ago, status RUNNING: Running step (pca.ubuntu.20140527.052557.755846: Step 1 of 1)\r\n"
       ]
      },
      {
       "output_type": "stream",
       "stream": "stdout",
       "text": [
        "Job on job flow j-2KCJE554SGITB failed with status WAITING: Waiting after step failed\r\n",
        "Logs are in s3://yoav.hadoop/log/j-2KCJE554SGITB/\r\n",
        "ec2_key_pair_file not specified, going to S3\r\n",
        "Scanning S3 logs for probable cause of failure\r\n",
        "Waiting 5.0s for S3 eventual consistency\r\n"
       ]
      },
      {
       "output_type": "stream",
       "stream": "stdout",
       "text": [
        "Attempting to terminate job...\r\n"
       ]
      },
      {
       "output_type": "stream",
       "stream": "stdout",
       "text": [
        "Traceback (most recent call last):\r\n",
        "  File \"pca.py\", line 64, in <module>\r\n",
        "    MRWeather.run()\r\n",
        "  File \"/usr/local/lib/python2.7/dist-packages/mrjob/job.py\", line 494, in run\r\n",
        "    mr_job.execute()\r\n",
        "  File \"/usr/local/lib/python2.7/dist-packages/mrjob/job.py\", line 512, in execute\r\n",
        "    super(MRJob, self).execute()\r\n",
        "  File \"/usr/local/lib/python2.7/dist-packages/mrjob/launch.py\", line 147, in execute\r\n",
        "    self.run_job()\r\n",
        "  File \"/usr/local/lib/python2.7/dist-packages/mrjob/launch.py\", line 213, in run_job\r\n",
        "    self.stdout.flush()\r\n",
        "  File \"/usr/local/lib/python2.7/dist-packages/mrjob/runner.py\", line 614, in __exit__\r\n",
        "    self.cleanup()\r\n",
        "  File \"/usr/local/lib/python2.7/dist-packages/mrjob/emr.py\", line 1010, in cleanup\r\n",
        "    super(EMRJobRunner, self).cleanup(mode=mode)\r\n",
        "  File \"/usr/local/lib/python2.7/dist-packages/mrjob/runner.py\", line 560, in cleanup\r\n",
        "    self._cleanup_job()\r\n",
        "  File \"/usr/local/lib/python2.7/dist-packages/mrjob/emr.py\", line 1084, in _cleanup_job\r\n",
        "    self._opts['ec2_key_pair_file'])\r\n",
        "  File \"/usr/local/lib/python2.7/dist-packages/mrjob/ssh.py\", line 200, in ssh_terminate_single_job\r\n",
        "    ssh_bin, address, ec2_key_pair_file, ['hadoop', 'job', '-list']))\r\n",
        "  File \"/usr/local/lib/python2.7/dist-packages/mrjob/ssh.py\", line 82, in ssh_run\r\n",
        "    p = Popen(args, stdout=PIPE, stderr=PIPE, stdin=PIPE)\r\n",
        "  File \"/home/ubuntu/anaconda/lib/python2.7/subprocess.py\", line 709, in __init__\r\n",
        "    errread, errwrite)\r\n",
        "  File \"/home/ubuntu/anaconda/lib/python2.7/subprocess.py\", line 1326, in _execute_child\r\n",
        "    raise child_exception\r\n",
        "TypeError: execv() arg 2 must contain only strings\r\n"
       ]
      }
     ],
     "prompt_number": 1
    },
    {
     "cell_type": "code",
     "collapsed": false,
     "input": [],
     "language": "python",
     "metadata": {},
     "outputs": []
    }
   ],
   "metadata": {}
  }
 ]
}